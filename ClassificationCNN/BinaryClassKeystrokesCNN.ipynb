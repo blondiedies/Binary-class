{
 "cells": [
  {
   "metadata": {
    "ExecuteTime": {
     "end_time": "2024-08-08T13:47:14.349138Z",
     "start_time": "2024-08-08T13:47:14.346339Z"
    }
   },
   "cell_type": "code",
   "source": [
    "import librosa\n",
    "import matplotlib.pyplot as plt\n",
    "import pandas as pd\n",
    "import numpy as np\n",
    "import torch\n",
    "import torch.nn as nn\n",
    "import torch.optim as optim\n",
    "from sklearn.model_selection import train_test_split\n",
    "from torchvision import datasets, transforms\n",
    "from torch.utils.data import DataLoader\n",
    "import torch.nn.functional as F\n",
    "from torchvision.transforms import Compose\n",
    "import random\n"
   ],
   "id": "2a122adee9a39c20",
   "outputs": [],
   "execution_count": 89
  },
  {
   "metadata": {
    "ExecuteTime": {
     "end_time": "2024-08-08T13:47:14.372103Z",
     "start_time": "2024-08-08T13:47:14.354770Z"
    }
   },
   "cell_type": "code",
   "source": "sample0, sr0 = librosa.load('Dataset-for-Binary/base-audio/audio_0.wav')",
   "id": "bfacb9ffeaf90c7e",
   "outputs": [],
   "execution_count": 90
  },
  {
   "metadata": {
    "ExecuteTime": {
     "end_time": "2024-08-08T13:47:14.374788Z",
     "start_time": "2024-08-08T13:47:14.372999Z"
    }
   },
   "cell_type": "code",
   "source": [
    "# waveform function for me to not bang my keyboard\n",
    "def disp_waveform(signal, sr=None, color='blue'):\n",
    "    plt.figure(figsize=(7,2))\n",
    "    return librosa.display.waveshow(signal, sr=sr, color=color)"
   ],
   "id": "9ad2373f64ed7deb",
   "outputs": [],
   "execution_count": 91
  },
  {
   "cell_type": "code",
   "id": "initial_id",
   "metadata": {
    "collapsed": true,
    "ExecuteTime": {
     "end_time": "2024-08-08T13:47:14.378354Z",
     "start_time": "2024-08-08T13:47:14.375602Z"
    }
   },
   "source": [
    "def isolator(signal, sample_rate, n_fft, hop_length, before, after, threshold, show=False):\n",
    "    strokes = []\n",
    "    # -- signal'\n",
    "    if show:\n",
    "        disp_waveform(signal, sr=sample_rate)\n",
    "    fft = librosa.stft(signal, n_fft=n_fft, hop_length=hop_length)\n",
    "    energy = np.abs(np.sum(fft, axis=0)).astype(float)\n",
    "    # norm = np.linalg.norm(energy)\n",
    "    # energy = energy/norm\n",
    "    # -- energy'\n",
    "    if show:\n",
    "        disp_waveform(energy)\n",
    "    threshed = energy > threshold\n",
    "    # -- peaks'\n",
    "    if show:\n",
    "        disp_waveform(threshed.astype(float))\n",
    "    peaks = np.where(threshed == True)[0]\n",
    "    peak_count = len(peaks)\n",
    "    prev_end = sample_rate*0.1*(-1)\n",
    "    # '-- isolating keystrokes'\n",
    "    for i in range(peak_count):\n",
    "        this_peak = peaks[i]\n",
    "        timestamp = (this_peak*hop_length) + n_fft//2\n",
    "        if timestamp > prev_end + (0.1*sample_rate):\n",
    "            keystroke = signal[timestamp-before:timestamp+after]\n",
    "            # strokes.append(torch.tensor(keystroke)[None, :])\n",
    "            # keystroke = transform(keystroke)\n",
    "            strokes.append(keystroke)\n",
    "            if show:\n",
    "                disp_waveform(keystroke, sr=sample_rate)\n",
    "            prev_end = timestamp+after\n",
    "    return strokes"
   ],
   "outputs": [],
   "execution_count": 92
  },
  {
   "metadata": {
    "ExecuteTime": {
     "end_time": "2024-08-08T13:47:14.384354Z",
     "start_time": "2024-08-08T13:47:14.382566Z"
    }
   },
   "cell_type": "code",
   "source": [
    "# Constants we actually need for the task\n",
    "MBP_AUDIO_DIR = 'Dataset-for-Binary/base-audio/'\n",
    "# keys_s = '1234567890QWERTYUIOPASDFGHJKLZXCVBNM'\n",
    "keys_s = '12'\n",
    "labels = list(keys_s)\n",
    "keys = ['audio_' + k + '.wav' for k in labels]\n",
    "data_dict = {'Key':[], 'File':[]}\n",
    "device = \"cuda\" if torch.cuda.is_available() else \"mps\" if torch.backends.mps.is_available() else \"cpu\""
   ],
   "id": "3c33893a14fb819c",
   "outputs": [],
   "execution_count": 93
  },
  {
   "metadata": {
    "ExecuteTime": {
     "end_time": "2024-08-08T13:47:14.387322Z",
     "start_time": "2024-08-08T13:47:14.385062Z"
    }
   },
   "cell_type": "code",
   "source": [
    "def create_dataset(n_fft, hop_length, before, after):\n",
    "    for i, File in enumerate(keys):\n",
    "        loc = MBP_AUDIO_DIR + File\n",
    "        samples, sr = librosa.load(loc)\n",
    "        prom = 0.06\n",
    "        step = 0.005\n",
    "        strokes = isolator(samples, sr, n_fft, hop_length, before, after, prom, False )\n",
    "        print(f'File {File} length: {len(strokes)}')\n",
    "        label = [labels[i]]*len(strokes)\n",
    "        data_dict['Key'] += label\n",
    "        data_dict['File'] += strokes\n",
    "\n",
    "    df = pd.DataFrame(data_dict)\n",
    "    mapper = {}\n",
    "    counter = 0\n",
    "    for l in df['Key']:\n",
    "        if not l in mapper:\n",
    "            mapper[l] = counter\n",
    "            counter += 1\n",
    "    df.replace({'Key': mapper}, inplace = True)\n",
    "\n",
    "    return df"
   ],
   "id": "2fee322473e2bfe1",
   "outputs": [],
   "execution_count": 94
  },
  {
   "metadata": {
    "ExecuteTime": {
     "end_time": "2024-08-08T13:47:14.429070Z",
     "start_time": "2024-08-08T13:47:14.388003Z"
    }
   },
   "cell_type": "code",
   "source": [
    "for key in keys_s:\n",
    "    sample, sr = librosa.load(f'Dataset-for-Binary/base-audio/audio_{key}.wav')\n",
    "    print(len(isolator(sample, sr, 1024, 225, 2400, 12000, 0.06)), end=' ')\n",
    "    "
   ],
   "id": "953e2f0556453dc",
   "outputs": [
    {
     "name": "stdout",
     "output_type": "stream",
     "text": [
      "25 25 "
     ]
    }
   ],
   "execution_count": 95
  },
  {
   "metadata": {
    "ExecuteTime": {
     "end_time": "2024-08-08T13:47:14.480045Z",
     "start_time": "2024-08-08T13:47:14.429836Z"
    }
   },
   "cell_type": "code",
   "source": [
    "n_fft = 1024\n",
    "hop_length = 225\n",
    "before = 2400\n",
    "after = 12000\n",
    "mbp_dataset = create_dataset(n_fft, hop_length, before, after)\n",
    "mbp_dataset"
   ],
   "id": "f2dd6f724446d4fc",
   "outputs": [
    {
     "name": "stdout",
     "output_type": "stream",
     "text": [
      "File audio_1.wav length: 25\n",
      "File audio_2.wav length: 25\n"
     ]
    },
    {
     "name": "stderr",
     "output_type": "stream",
     "text": [
      "/var/folders/dr/8bpx1vc91zq76n48xvq00vkr0000gn/T/ipykernel_25558/2996179166.py:20: FutureWarning: Downcasting behavior in `replace` is deprecated and will be removed in a future version. To retain the old behavior, explicitly call `result.infer_objects(copy=False)`. To opt-in to the future behavior, set `pd.set_option('future.no_silent_downcasting', True)`\n",
      "  df.replace({'Key': mapper}, inplace = True)\n"
     ]
    },
    {
     "data": {
      "text/plain": [
       "    Key                                               File\n",
       "0     0  [-0.00017975704, -0.00012727435, -9.371067e-05...\n",
       "1     0  [0.0004975861, 0.00049031794, 0.00055128767, 0...\n",
       "2     0  [0.0003178973, 0.00034715654, 0.00037197635, 0...\n",
       "3     0  [0.0026817801, 0.0026667325, 0.0026979204, 0.0...\n",
       "4     0  [0.006475482, 0.006330982, 0.0053669773, 0.003...\n",
       "5     0  [0.0055401623, 0.0057142153, 0.0051255077, 0.0...\n",
       "6     0  [-0.00901874, -0.0090894345, -0.007178737, -0....\n",
       "7     0  [-0.00077488885, -0.00084206864, -0.0009062995...\n",
       "8     0  [-0.00045609198, -0.00053762493, -0.0005696639...\n",
       "9     0  [0.00048011309, 0.00049448083, 0.00048624963, ...\n",
       "10    0  [0.00046406084, 0.00040549453, 0.0005239185, 0...\n",
       "11    0  [-0.00015689922, -0.00020058345, -0.0002312733...\n",
       "12    0  [-0.0018692487, -0.0017874349, -0.0017549237, ...\n",
       "13    0  [0.0022223277, 0.002131631, 0.0021058647, 0.00...\n",
       "14    0  [0.00035693456, 0.00037145446, 0.0003896684, 0...\n",
       "15    0  [-0.0012457026, -0.0012666659, -0.0013197184, ...\n",
       "16    0  [0.00086556876, 0.0008182202, 0.0007553339, 0....\n",
       "17    0  [-7.6670665e-05, -0.00010993931, -0.0001463907...\n",
       "18    0  [0.0004390155, 0.00042036036, 0.00039252668, 0...\n",
       "19    0  [0.0013066516, 0.0013132789, 0.001349322, 0.00...\n",
       "20    0  [0.00052257965, 0.00050419837, 0.00049046776, ...\n",
       "21    0  [-0.0006786112, -0.0008296529, -0.00091462507,...\n",
       "22    0  [0.0011138697, 0.0011558046, 0.001200909, 0.00...\n",
       "23    0  [-0.00037096435, -0.00041406968, -0.0004575633...\n",
       "24    0  [-0.001133296, -0.0011026814, -0.001075337, -0...\n",
       "25    1  [0.0001816776, 0.00019386431, 0.00016732661, 0...\n",
       "26    1  [0.0004485243, 0.00049015845, 0.0004871958, 0....\n",
       "27    1  [-0.00039989088, -0.00043092796, -0.0004784575...\n",
       "28    1  [-0.000561003, -0.00053699105, -0.0005239887, ...\n",
       "29    1  [0.0006868725, 0.00071698095, 0.0007245999, 0....\n",
       "30    1  [-0.0012704264, -0.0012941642, -0.0012853963, ...\n",
       "31    1  [-0.001287375, -0.0012638093, -0.001268417, -0...\n",
       "32    1  [-0.0026617537, -0.0026671526, -0.0026275432, ...\n",
       "33    1  [-0.0010630831, -0.0011216018, -0.0011684682, ...\n",
       "34    1  [-0.0005092743, -0.00048849755, -0.00045766082...\n",
       "35    1  [0.0016996552, 0.001664388, 0.0015623318, 0.00...\n",
       "36    1  [0.0002765373, 0.00028328397, 0.0002864388, 0....\n",
       "37    1  [0.00068197394, 0.00069592794, 0.00070352154, ...\n",
       "38    1  [0.0019000203, 0.0019182347, 0.0018961385, 0.0...\n",
       "39    1  [0.00050260324, 0.0005015809, 0.0004799068, 0....\n",
       "40    1  [-0.0006419872, -0.0006479067, -0.0006938302, ...\n",
       "41    1  [-0.001072727, -0.0010210016, -0.0009882068, -...\n",
       "42    1  [-0.0005811126, -0.0005492325, -0.0004953863, ...\n",
       "43    1  [-0.0021418547, -0.0022112704, -0.0022259066, ...\n",
       "44    1  [-0.0012099082, -0.0012532885, -0.0012766473, ...\n",
       "45    1  [0.00023394631, 0.00024993793, 0.00025177706, ...\n",
       "46    1  [-0.001261207, -0.0012611368, -0.0012214507, -...\n",
       "47    1  [-0.0011851405, -0.0011384091, -0.0011282274, ...\n",
       "48    1  [0.0015838555, 0.0015580407, 0.0015773091, 0.0...\n",
       "49    1  [0.00071680837, 0.0007172203, 0.0007314312, 0...."
      ],
      "text/html": [
       "<div>\n",
       "<style scoped>\n",
       "    .dataframe tbody tr th:only-of-type {\n",
       "        vertical-align: middle;\n",
       "    }\n",
       "\n",
       "    .dataframe tbody tr th {\n",
       "        vertical-align: top;\n",
       "    }\n",
       "\n",
       "    .dataframe thead th {\n",
       "        text-align: right;\n",
       "    }\n",
       "</style>\n",
       "<table border=\"1\" class=\"dataframe\">\n",
       "  <thead>\n",
       "    <tr style=\"text-align: right;\">\n",
       "      <th></th>\n",
       "      <th>Key</th>\n",
       "      <th>File</th>\n",
       "    </tr>\n",
       "  </thead>\n",
       "  <tbody>\n",
       "    <tr>\n",
       "      <th>0</th>\n",
       "      <td>0</td>\n",
       "      <td>[-0.00017975704, -0.00012727435, -9.371067e-05...</td>\n",
       "    </tr>\n",
       "    <tr>\n",
       "      <th>1</th>\n",
       "      <td>0</td>\n",
       "      <td>[0.0004975861, 0.00049031794, 0.00055128767, 0...</td>\n",
       "    </tr>\n",
       "    <tr>\n",
       "      <th>2</th>\n",
       "      <td>0</td>\n",
       "      <td>[0.0003178973, 0.00034715654, 0.00037197635, 0...</td>\n",
       "    </tr>\n",
       "    <tr>\n",
       "      <th>3</th>\n",
       "      <td>0</td>\n",
       "      <td>[0.0026817801, 0.0026667325, 0.0026979204, 0.0...</td>\n",
       "    </tr>\n",
       "    <tr>\n",
       "      <th>4</th>\n",
       "      <td>0</td>\n",
       "      <td>[0.006475482, 0.006330982, 0.0053669773, 0.003...</td>\n",
       "    </tr>\n",
       "    <tr>\n",
       "      <th>5</th>\n",
       "      <td>0</td>\n",
       "      <td>[0.0055401623, 0.0057142153, 0.0051255077, 0.0...</td>\n",
       "    </tr>\n",
       "    <tr>\n",
       "      <th>6</th>\n",
       "      <td>0</td>\n",
       "      <td>[-0.00901874, -0.0090894345, -0.007178737, -0....</td>\n",
       "    </tr>\n",
       "    <tr>\n",
       "      <th>7</th>\n",
       "      <td>0</td>\n",
       "      <td>[-0.00077488885, -0.00084206864, -0.0009062995...</td>\n",
       "    </tr>\n",
       "    <tr>\n",
       "      <th>8</th>\n",
       "      <td>0</td>\n",
       "      <td>[-0.00045609198, -0.00053762493, -0.0005696639...</td>\n",
       "    </tr>\n",
       "    <tr>\n",
       "      <th>9</th>\n",
       "      <td>0</td>\n",
       "      <td>[0.00048011309, 0.00049448083, 0.00048624963, ...</td>\n",
       "    </tr>\n",
       "    <tr>\n",
       "      <th>10</th>\n",
       "      <td>0</td>\n",
       "      <td>[0.00046406084, 0.00040549453, 0.0005239185, 0...</td>\n",
       "    </tr>\n",
       "    <tr>\n",
       "      <th>11</th>\n",
       "      <td>0</td>\n",
       "      <td>[-0.00015689922, -0.00020058345, -0.0002312733...</td>\n",
       "    </tr>\n",
       "    <tr>\n",
       "      <th>12</th>\n",
       "      <td>0</td>\n",
       "      <td>[-0.0018692487, -0.0017874349, -0.0017549237, ...</td>\n",
       "    </tr>\n",
       "    <tr>\n",
       "      <th>13</th>\n",
       "      <td>0</td>\n",
       "      <td>[0.0022223277, 0.002131631, 0.0021058647, 0.00...</td>\n",
       "    </tr>\n",
       "    <tr>\n",
       "      <th>14</th>\n",
       "      <td>0</td>\n",
       "      <td>[0.00035693456, 0.00037145446, 0.0003896684, 0...</td>\n",
       "    </tr>\n",
       "    <tr>\n",
       "      <th>15</th>\n",
       "      <td>0</td>\n",
       "      <td>[-0.0012457026, -0.0012666659, -0.0013197184, ...</td>\n",
       "    </tr>\n",
       "    <tr>\n",
       "      <th>16</th>\n",
       "      <td>0</td>\n",
       "      <td>[0.00086556876, 0.0008182202, 0.0007553339, 0....</td>\n",
       "    </tr>\n",
       "    <tr>\n",
       "      <th>17</th>\n",
       "      <td>0</td>\n",
       "      <td>[-7.6670665e-05, -0.00010993931, -0.0001463907...</td>\n",
       "    </tr>\n",
       "    <tr>\n",
       "      <th>18</th>\n",
       "      <td>0</td>\n",
       "      <td>[0.0004390155, 0.00042036036, 0.00039252668, 0...</td>\n",
       "    </tr>\n",
       "    <tr>\n",
       "      <th>19</th>\n",
       "      <td>0</td>\n",
       "      <td>[0.0013066516, 0.0013132789, 0.001349322, 0.00...</td>\n",
       "    </tr>\n",
       "    <tr>\n",
       "      <th>20</th>\n",
       "      <td>0</td>\n",
       "      <td>[0.00052257965, 0.00050419837, 0.00049046776, ...</td>\n",
       "    </tr>\n",
       "    <tr>\n",
       "      <th>21</th>\n",
       "      <td>0</td>\n",
       "      <td>[-0.0006786112, -0.0008296529, -0.00091462507,...</td>\n",
       "    </tr>\n",
       "    <tr>\n",
       "      <th>22</th>\n",
       "      <td>0</td>\n",
       "      <td>[0.0011138697, 0.0011558046, 0.001200909, 0.00...</td>\n",
       "    </tr>\n",
       "    <tr>\n",
       "      <th>23</th>\n",
       "      <td>0</td>\n",
       "      <td>[-0.00037096435, -0.00041406968, -0.0004575633...</td>\n",
       "    </tr>\n",
       "    <tr>\n",
       "      <th>24</th>\n",
       "      <td>0</td>\n",
       "      <td>[-0.001133296, -0.0011026814, -0.001075337, -0...</td>\n",
       "    </tr>\n",
       "    <tr>\n",
       "      <th>25</th>\n",
       "      <td>1</td>\n",
       "      <td>[0.0001816776, 0.00019386431, 0.00016732661, 0...</td>\n",
       "    </tr>\n",
       "    <tr>\n",
       "      <th>26</th>\n",
       "      <td>1</td>\n",
       "      <td>[0.0004485243, 0.00049015845, 0.0004871958, 0....</td>\n",
       "    </tr>\n",
       "    <tr>\n",
       "      <th>27</th>\n",
       "      <td>1</td>\n",
       "      <td>[-0.00039989088, -0.00043092796, -0.0004784575...</td>\n",
       "    </tr>\n",
       "    <tr>\n",
       "      <th>28</th>\n",
       "      <td>1</td>\n",
       "      <td>[-0.000561003, -0.00053699105, -0.0005239887, ...</td>\n",
       "    </tr>\n",
       "    <tr>\n",
       "      <th>29</th>\n",
       "      <td>1</td>\n",
       "      <td>[0.0006868725, 0.00071698095, 0.0007245999, 0....</td>\n",
       "    </tr>\n",
       "    <tr>\n",
       "      <th>30</th>\n",
       "      <td>1</td>\n",
       "      <td>[-0.0012704264, -0.0012941642, -0.0012853963, ...</td>\n",
       "    </tr>\n",
       "    <tr>\n",
       "      <th>31</th>\n",
       "      <td>1</td>\n",
       "      <td>[-0.001287375, -0.0012638093, -0.001268417, -0...</td>\n",
       "    </tr>\n",
       "    <tr>\n",
       "      <th>32</th>\n",
       "      <td>1</td>\n",
       "      <td>[-0.0026617537, -0.0026671526, -0.0026275432, ...</td>\n",
       "    </tr>\n",
       "    <tr>\n",
       "      <th>33</th>\n",
       "      <td>1</td>\n",
       "      <td>[-0.0010630831, -0.0011216018, -0.0011684682, ...</td>\n",
       "    </tr>\n",
       "    <tr>\n",
       "      <th>34</th>\n",
       "      <td>1</td>\n",
       "      <td>[-0.0005092743, -0.00048849755, -0.00045766082...</td>\n",
       "    </tr>\n",
       "    <tr>\n",
       "      <th>35</th>\n",
       "      <td>1</td>\n",
       "      <td>[0.0016996552, 0.001664388, 0.0015623318, 0.00...</td>\n",
       "    </tr>\n",
       "    <tr>\n",
       "      <th>36</th>\n",
       "      <td>1</td>\n",
       "      <td>[0.0002765373, 0.00028328397, 0.0002864388, 0....</td>\n",
       "    </tr>\n",
       "    <tr>\n",
       "      <th>37</th>\n",
       "      <td>1</td>\n",
       "      <td>[0.00068197394, 0.00069592794, 0.00070352154, ...</td>\n",
       "    </tr>\n",
       "    <tr>\n",
       "      <th>38</th>\n",
       "      <td>1</td>\n",
       "      <td>[0.0019000203, 0.0019182347, 0.0018961385, 0.0...</td>\n",
       "    </tr>\n",
       "    <tr>\n",
       "      <th>39</th>\n",
       "      <td>1</td>\n",
       "      <td>[0.00050260324, 0.0005015809, 0.0004799068, 0....</td>\n",
       "    </tr>\n",
       "    <tr>\n",
       "      <th>40</th>\n",
       "      <td>1</td>\n",
       "      <td>[-0.0006419872, -0.0006479067, -0.0006938302, ...</td>\n",
       "    </tr>\n",
       "    <tr>\n",
       "      <th>41</th>\n",
       "      <td>1</td>\n",
       "      <td>[-0.001072727, -0.0010210016, -0.0009882068, -...</td>\n",
       "    </tr>\n",
       "    <tr>\n",
       "      <th>42</th>\n",
       "      <td>1</td>\n",
       "      <td>[-0.0005811126, -0.0005492325, -0.0004953863, ...</td>\n",
       "    </tr>\n",
       "    <tr>\n",
       "      <th>43</th>\n",
       "      <td>1</td>\n",
       "      <td>[-0.0021418547, -0.0022112704, -0.0022259066, ...</td>\n",
       "    </tr>\n",
       "    <tr>\n",
       "      <th>44</th>\n",
       "      <td>1</td>\n",
       "      <td>[-0.0012099082, -0.0012532885, -0.0012766473, ...</td>\n",
       "    </tr>\n",
       "    <tr>\n",
       "      <th>45</th>\n",
       "      <td>1</td>\n",
       "      <td>[0.00023394631, 0.00024993793, 0.00025177706, ...</td>\n",
       "    </tr>\n",
       "    <tr>\n",
       "      <th>46</th>\n",
       "      <td>1</td>\n",
       "      <td>[-0.001261207, -0.0012611368, -0.0012214507, -...</td>\n",
       "    </tr>\n",
       "    <tr>\n",
       "      <th>47</th>\n",
       "      <td>1</td>\n",
       "      <td>[-0.0011851405, -0.0011384091, -0.0011282274, ...</td>\n",
       "    </tr>\n",
       "    <tr>\n",
       "      <th>48</th>\n",
       "      <td>1</td>\n",
       "      <td>[0.0015838555, 0.0015580407, 0.0015773091, 0.0...</td>\n",
       "    </tr>\n",
       "    <tr>\n",
       "      <th>49</th>\n",
       "      <td>1</td>\n",
       "      <td>[0.00071680837, 0.0007172203, 0.0007314312, 0....</td>\n",
       "    </tr>\n",
       "  </tbody>\n",
       "</table>\n",
       "</div>"
      ]
     },
     "execution_count": 96,
     "metadata": {},
     "output_type": "execute_result"
    }
   ],
   "execution_count": 96
  },
  {
   "metadata": {
    "ExecuteTime": {
     "end_time": "2024-08-08T13:47:14.488325Z",
     "start_time": "2024-08-08T13:47:14.480569Z"
    }
   },
   "cell_type": "code",
   "source": [
    "audio_samples = mbp_dataset['File'].values.tolist()\n",
    "labels = mbp_dataset['Key'].values.tolist()\n",
    "\n",
    "audioDataset = np.array(audio_samples, dtype = object)\n",
    "# labels = np.array(labels)"
   ],
   "id": "c89e46a8b42021c0",
   "outputs": [],
   "execution_count": 97
  },
  {
   "metadata": {
    "ExecuteTime": {
     "end_time": "2024-08-08T13:47:14.491416Z",
     "start_time": "2024-08-08T13:47:14.489425Z"
    }
   },
   "cell_type": "code",
   "source": [
    "class TimeShifting():\n",
    "    def __call__(self, samples):\n",
    "#       samples_shape = samples.shape\n",
    "        samples = samples.flatten()\n",
    "        \n",
    "        shift = int(len(samples) * 0.4) #Max shift (0.4)\n",
    "        random_shift = random.randint(0, shift) #Random number between 0 and 0.4*len(samples)\n",
    "        data_roll = np.roll(samples, random_shift)\n",
    "        return data_roll"
   ],
   "id": "39d2cd83eaab0466",
   "outputs": [],
   "execution_count": 98
  },
  {
   "metadata": {
    "ExecuteTime": {
     "end_time": "2024-08-08T13:47:14.493574Z",
     "start_time": "2024-08-08T13:47:14.491856Z"
    }
   },
   "cell_type": "code",
   "source": [
    "def time_shift(samples):\n",
    "    samples = samples.flatten()\n",
    "    shift = int(len(samples) * 0.4) #Max shift (0.4)\n",
    "    random_shift = random.randint(0, shift) #Random number between 0 and 0.4*len(samples)\n",
    "    data_roll = np.roll(samples, random_shift)\n",
    "    return data_roll"
   ],
   "id": "ac3598b8c7bcd285",
   "outputs": [],
   "execution_count": 99
  },
  {
   "metadata": {
    "ExecuteTime": {
     "end_time": "2024-08-08T13:47:14.522028Z",
     "start_time": "2024-08-08T13:47:14.494348Z"
    }
   },
   "cell_type": "code",
   "source": [
    "from skimage.transform import resize\n",
    "\n",
    "\n",
    "class ToMelSpectrogram:\n",
    "    def __init__(self, audio_length=14400):\n",
    "        self.audio_length = audio_length\n",
    "\n",
    "    def __call__(self, samples):\n",
    "        if len(samples) > self.audio_length:\n",
    "            samples = samples[:self.audio_length]\n",
    "        elif len(samples) < self.audio_length:\n",
    "            samples = np.pad(samples, (0, self.audio_length - len(samples)), mode='constant')\n",
    "\n",
    "        mel_spec = librosa.feature.melspectrogram(y=samples, sr=44100, n_mels=64, n_fft=1024, hop_length=225)\n",
    "        mel_spec_resized = resize(mel_spec, (64, 64), anti_aliasing=True)\n",
    "        mel_spec_resized = np.expand_dims(mel_spec_resized, axis=0)\n",
    "        return torch.tensor(mel_spec_resized)\n",
    "\n",
    "\n",
    "class ToMelSpectrogramMfcc:\n",
    "    def __init__(self, audio_length=14400):\n",
    "        self.audio_length = audio_length\n",
    "\n",
    "    def __call__(self, samples):\n",
    "        if len(samples) > self.audio_length:\n",
    "            samples = samples[:self.audio_length]\n",
    "        elif len(samples) < self.audio_length:\n",
    "            samples = np.pad(samples, (0, self.audio_length - len(samples)), mode='constant')\n",
    "\n",
    "        mel_spec = librosa.feature.melspectrogram(y=samples, sr=44100, n_mels=64, n_fft=n_fft, hop_length=hop_length)\n",
    "        mel_spec = librosa.feature.mfcc(S=librosa.power_to_db(mel_spec))\n",
    "        mel_spec_resized = resize(mel_spec, (64, 64), anti_aliasing=True)\n",
    "        mel_spec_resized = np.expand_dims(mel_spec_resized, axis=0)\n",
    "\n",
    "        return torch.tensor(mel_spec_resized)\n"
   ],
   "id": "4a429af86b3206df",
   "outputs": [],
   "execution_count": 100
  },
  {
   "metadata": {
    "ExecuteTime": {
     "end_time": "2024-08-08T13:47:14.524064Z",
     "start_time": "2024-08-08T13:47:14.522611Z"
    }
   },
   "cell_type": "code",
   "source": "transform = Compose([ToMelSpectrogramMfcc()])",
   "id": "f019fc2bc0e25204",
   "outputs": [],
   "execution_count": 101
  },
  {
   "metadata": {
    "ExecuteTime": {
     "end_time": "2024-08-08T13:47:14.527650Z",
     "start_time": "2024-08-08T13:47:14.524645Z"
    }
   },
   "cell_type": "code",
   "source": [
    "audio_samples_new = audio_samples.copy()\n",
    "\n",
    "for i, sample in enumerate(audio_samples):\n",
    "    audio_samples_new.append(time_shift(sample))\n",
    "    labels.append(labels[i])\n",
    "\n",
    "# convert labels to a numpy array\n",
    "labels = np.array(labels)\n",
    "print(len(audio_samples_new))\n",
    "print(len(labels))"
   ],
   "id": "44b3b3ca9f37f4c3",
   "outputs": [
    {
     "name": "stdout",
     "output_type": "stream",
     "text": [
      "100\n",
      "100\n"
     ]
    }
   ],
   "execution_count": 102
  },
  {
   "metadata": {
    "ExecuteTime": {
     "end_time": "2024-08-08T13:47:15.026785Z",
     "start_time": "2024-08-08T13:47:14.528418Z"
    }
   },
   "cell_type": "code",
   "source": [
    "audioDatasetFin = []\n",
    "\n",
    "for i in range(len(audio_samples_new)):\n",
    "    transformed_sample = transform(audio_samples_new[i])\n",
    "\n",
    "    audioDatasetFin.append((transformed_sample, labels[i]))"
   ],
   "id": "be9e929216f37f07",
   "outputs": [],
   "execution_count": 103
  },
  {
   "metadata": {
    "ExecuteTime": {
     "end_time": "2024-08-08T13:47:15.043588Z",
     "start_time": "2024-08-08T13:47:15.040403Z"
    }
   },
   "cell_type": "code",
   "source": "len(audioDatasetFin)",
   "id": "94d1788d46fe597f",
   "outputs": [
    {
     "data": {
      "text/plain": [
       "100"
      ]
     },
     "execution_count": 104,
     "metadata": {},
     "output_type": "execute_result"
    }
   ],
   "execution_count": 104
  },
  {
   "metadata": {
    "ExecuteTime": {
     "end_time": "2024-08-08T13:47:15.047575Z",
     "start_time": "2024-08-08T13:47:15.044785Z"
    }
   },
   "cell_type": "code",
   "source": [
    "# Model architecture\n",
    "class CNN(nn.Module):\n",
    "    def __init__(self):\n",
    "        super(CNN, self).__init__()\n",
    "        self.conv1 = nn.Conv2d(1, 32, 3, 1)\n",
    "        self.pool = nn.MaxPool2d(2, 2)\n",
    "        self.conv2 = nn.Conv2d(32, 64, 3, 1)\n",
    "        self.fc1 = nn.LazyLinear(512)\n",
    "        self.fc2 = nn.Linear(512, 1)\n",
    "    \n",
    "    def forward(self, x):\n",
    "        x = self.pool(F.relu(self.conv1(x)))\n",
    "        x = self.pool(F.relu(self.conv2(x)))\n",
    "        x = x.view(-1, 64 * 14 * 14)\n",
    "        x = F.relu(self.fc1(x))\n",
    "        x = torch.sigmoid(self.fc2(x))\n",
    "        return x"
   ],
   "id": "876758bd07bc26b7",
   "outputs": [],
   "execution_count": 105
  },
  {
   "metadata": {
    "ExecuteTime": {
     "end_time": "2024-08-08T13:47:15.053837Z",
     "start_time": "2024-08-08T13:47:15.048869Z"
    }
   },
   "cell_type": "code",
   "source": [
    "import time\n",
    "\n",
    "def train(dataset, num_epochs, model_path, leave_one_out=False):\n",
    "    train_losses, train_accuracies = [], []\n",
    "    val_losses, val_accuracies = [], []\n",
    "    \n",
    "    if leave_one_out:\n",
    "        train_set, val_set = dataset[:-1], [dataset[-1]]\n",
    "    else:\n",
    "        train_set, val_set = train_test_split(dataset, test_size=0.15)\n",
    "    train_loader = DataLoader(train_set, batch_size=16, shuffle=True)\n",
    "    val_loader = DataLoader(val_set, batch_size=16, shuffle=True)\n",
    "    \n",
    "    model = CNN()\n",
    "    model = model.to(device)\n",
    "    optimizer = optim.Adam(model.parameters(), lr=5e-5)\n",
    "    # criterion = nn.CrossEntropyLoss()\n",
    "    criterion = nn.BCELoss()\n",
    "    # criterion = nn.BCEWithLogitsLoss()\n",
    "    \n",
    "    num_correct_vals = 0\n",
    "    \n",
    "    for epoch in range(num_epochs):\n",
    "        model.train()\n",
    "        epoch_train_loss = 0.0\n",
    "        correct_train = 0  # correct training examples\n",
    "        total_train = 0 # total training examples\n",
    "        tic = time.perf_counter()\n",
    "        \n",
    "        # print(f'---- EPOCH {epoch} ----')\n",
    "        for inputs, labels in train_loader:\n",
    "            inputs = inputs.to(device)\n",
    "            labels = labels.to(device).unsqueeze(1).float()\n",
    "            optimizer.zero_grad()\n",
    "            \n",
    "            # Forward pass\n",
    "            outputs = model(inputs)\n",
    "            loss = criterion(outputs, labels)\n",
    "            epoch_train_loss += loss.item() * inputs.size(0)\n",
    "\n",
    "            # _, predicted_train = torch.max(outputs.data, 1)\n",
    "            predicted_train = (outputs > 0.5).float()\n",
    "            total_train += labels.size(0)\n",
    "            correct_train += (predicted_train == labels).sum().item()\n",
    "            \n",
    "            # Backward pass\n",
    "            loss.backward()\n",
    "            optimizer.step()\n",
    "            \n",
    "        toc = time.perf_counter()\n",
    "        time_taken = toc - tic\n",
    "        \n",
    "        epoch_train_loss /= len(train_loader.dataset)\n",
    "        train_losses.append(epoch_train_loss)\n",
    "        train_accuracy = correct_train / total_train\n",
    "        train_accuracies.append(train_accuracy)\n",
    "        \n",
    "        # Evaluation of the model\n",
    "        model.eval()\n",
    "        total, correct = 0, 0\n",
    "        for inputs, labels in val_loader:\n",
    "            inputs = inputs.to(device)\n",
    "            labels = labels.to(device).unsqueeze(1).float()\n",
    "            \n",
    "            optimizer.zero_grad()\n",
    "            \n",
    "            outputs = model(inputs)\n",
    "            # _, predicted = torch.max(outputs.data, 1)\n",
    "            predicted = (outputs > 0.5).float()\n",
    "            total += labels.size(0)\n",
    "            correct += (predicted == labels).sum().item()\n",
    "            # print(\"VALIDATION\")\n",
    "            # print(f'outputs: {outputs}')\n",
    "            # print(f'predicted: {predicted}')\n",
    "            # print(f'labels: {labels}')\n",
    "            \n",
    "        val_accuracy = correct / total\n",
    "        val_accuracies.append(val_accuracy)\n",
    "        \n",
    "        if val_accuracy > 0.90:\n",
    "            num_correct_vals += 1\n",
    "        \n",
    "        print(f\"Epoch [{epoch + 1}/{num_epochs}], Train Loss: {epoch_train_loss:.4f}, Train Accuracy: {train_accuracy:.4f} / Val Accuracy: {val_accuracy:.4f} Iter Time: {time_taken:.2f}s\")\n",
    "        \n",
    "        if epoch == num_epochs - 1 and epoch != 0:\n",
    "            plt.plot(range(epoch+1), train_accuracies, label='Training Accuracy', color=\"blue\")\n",
    "            plt.plot(range(epoch+1), val_accuracies, label='Validation Accuracy', color=\"orange\")\n",
    "            plt.xlabel('Epoch')\n",
    "            plt.ylabel('Accuracy')\n",
    "            plt.title(f'Training vs Validation Accuracy')\n",
    "            plt.legend()\n",
    "            plt.show()\n",
    "        \n",
    "        print()\n",
    "    print(f'Number of correct validations: {num_correct_vals}/{num_epochs}')\n",
    "    torch.save(model.state_dict(), model_path)"
   ],
   "id": "9e1ab811f0d1abfe",
   "outputs": [],
   "execution_count": 106
  },
  {
   "metadata": {
    "ExecuteTime": {
     "end_time": "2024-08-08T13:47:22.062219Z",
     "start_time": "2024-08-08T13:47:15.055056Z"
    }
   },
   "cell_type": "code",
   "source": "train(audioDatasetFin, 40, \"model_binclass_cnn_08_08_24.pth\", leave_one_out=True)",
   "id": "7407a641de41b299",
   "outputs": [
    {
     "name": "stderr",
     "output_type": "stream",
     "text": [
      "/opt/anaconda3/lib/python3.11/site-packages/torch/nn/modules/lazy.py:181: UserWarning: Lazy modules are a new feature under heavy development so changes to the API or functionality can happen at any moment.\n",
      "  warnings.warn('Lazy modules are a new feature under heavy development '\n"
     ]
    },
    {
     "name": "stdout",
     "output_type": "stream",
     "text": [
      "Epoch [1/40], Train Loss: 4.0713, Train Accuracy: 0.3535 / Val Accuracy: 1.0000 Iter Time: 4.17s\n",
      "\n",
      "Epoch [2/40], Train Loss: 0.9418, Train Accuracy: 0.5960 / Val Accuracy: 1.0000 Iter Time: 0.06s\n",
      "\n",
      "Epoch [3/40], Train Loss: 0.5772, Train Accuracy: 0.6162 / Val Accuracy: 1.0000 Iter Time: 0.05s\n",
      "\n",
      "Epoch [4/40], Train Loss: 0.4307, Train Accuracy: 0.8384 / Val Accuracy: 1.0000 Iter Time: 0.04s\n",
      "\n",
      "Epoch [5/40], Train Loss: 0.3508, Train Accuracy: 0.8788 / Val Accuracy: 1.0000 Iter Time: 0.05s\n",
      "\n",
      "Epoch [6/40], Train Loss: 0.2912, Train Accuracy: 0.9192 / Val Accuracy: 0.0000 Iter Time: 0.05s\n",
      "\n",
      "Epoch [7/40], Train Loss: 0.3044, Train Accuracy: 0.8586 / Val Accuracy: 1.0000 Iter Time: 0.05s\n",
      "\n",
      "Epoch [8/40], Train Loss: 0.1940, Train Accuracy: 0.9394 / Val Accuracy: 1.0000 Iter Time: 0.05s\n",
      "\n",
      "Epoch [9/40], Train Loss: 0.1900, Train Accuracy: 0.9293 / Val Accuracy: 1.0000 Iter Time: 0.05s\n",
      "\n",
      "Epoch [10/40], Train Loss: 0.1660, Train Accuracy: 0.9596 / Val Accuracy: 1.0000 Iter Time: 0.05s\n",
      "\n",
      "Epoch [11/40], Train Loss: 0.1576, Train Accuracy: 0.9596 / Val Accuracy: 1.0000 Iter Time: 0.05s\n",
      "\n",
      "Epoch [12/40], Train Loss: 0.1866, Train Accuracy: 0.8990 / Val Accuracy: 1.0000 Iter Time: 0.05s\n",
      "\n",
      "Epoch [13/40], Train Loss: 0.1091, Train Accuracy: 0.9697 / Val Accuracy: 1.0000 Iter Time: 0.05s\n",
      "\n",
      "Epoch [14/40], Train Loss: 0.0898, Train Accuracy: 1.0000 / Val Accuracy: 1.0000 Iter Time: 0.05s\n",
      "\n",
      "Epoch [15/40], Train Loss: 0.0611, Train Accuracy: 1.0000 / Val Accuracy: 1.0000 Iter Time: 0.05s\n",
      "\n",
      "Epoch [16/40], Train Loss: 0.0587, Train Accuracy: 1.0000 / Val Accuracy: 1.0000 Iter Time: 0.05s\n",
      "\n",
      "Epoch [17/40], Train Loss: 0.0465, Train Accuracy: 1.0000 / Val Accuracy: 1.0000 Iter Time: 0.05s\n",
      "\n",
      "Epoch [18/40], Train Loss: 0.0424, Train Accuracy: 1.0000 / Val Accuracy: 1.0000 Iter Time: 0.05s\n",
      "\n",
      "Epoch [19/40], Train Loss: 0.0337, Train Accuracy: 1.0000 / Val Accuracy: 1.0000 Iter Time: 0.05s\n",
      "\n",
      "Epoch [20/40], Train Loss: 0.0343, Train Accuracy: 1.0000 / Val Accuracy: 1.0000 Iter Time: 0.05s\n",
      "\n",
      "Epoch [21/40], Train Loss: 0.0362, Train Accuracy: 1.0000 / Val Accuracy: 1.0000 Iter Time: 0.05s\n",
      "\n",
      "Epoch [22/40], Train Loss: 0.0316, Train Accuracy: 1.0000 / Val Accuracy: 1.0000 Iter Time: 0.05s\n",
      "\n",
      "Epoch [23/40], Train Loss: 0.0263, Train Accuracy: 1.0000 / Val Accuracy: 1.0000 Iter Time: 0.05s\n",
      "\n",
      "Epoch [24/40], Train Loss: 0.0205, Train Accuracy: 1.0000 / Val Accuracy: 1.0000 Iter Time: 0.05s\n",
      "\n",
      "Epoch [25/40], Train Loss: 0.0223, Train Accuracy: 1.0000 / Val Accuracy: 1.0000 Iter Time: 0.05s\n",
      "\n",
      "Epoch [26/40], Train Loss: 0.0237, Train Accuracy: 1.0000 / Val Accuracy: 1.0000 Iter Time: 0.05s\n",
      "\n",
      "Epoch [27/40], Train Loss: 0.0178, Train Accuracy: 1.0000 / Val Accuracy: 1.0000 Iter Time: 0.05s\n",
      "\n",
      "Epoch [28/40], Train Loss: 0.0171, Train Accuracy: 1.0000 / Val Accuracy: 1.0000 Iter Time: 0.05s\n",
      "\n",
      "Epoch [29/40], Train Loss: 0.0135, Train Accuracy: 1.0000 / Val Accuracy: 1.0000 Iter Time: 0.05s\n",
      "\n",
      "Epoch [30/40], Train Loss: 0.0132, Train Accuracy: 1.0000 / Val Accuracy: 1.0000 Iter Time: 0.05s\n",
      "\n",
      "Epoch [31/40], Train Loss: 0.0140, Train Accuracy: 1.0000 / Val Accuracy: 1.0000 Iter Time: 0.05s\n",
      "\n",
      "Epoch [32/40], Train Loss: 0.0121, Train Accuracy: 1.0000 / Val Accuracy: 1.0000 Iter Time: 0.05s\n",
      "\n",
      "Epoch [33/40], Train Loss: 0.0112, Train Accuracy: 1.0000 / Val Accuracy: 1.0000 Iter Time: 0.05s\n",
      "\n",
      "Epoch [34/40], Train Loss: 0.0109, Train Accuracy: 1.0000 / Val Accuracy: 1.0000 Iter Time: 0.05s\n",
      "\n",
      "Epoch [35/40], Train Loss: 0.0096, Train Accuracy: 1.0000 / Val Accuracy: 1.0000 Iter Time: 0.05s\n",
      "\n",
      "Epoch [36/40], Train Loss: 0.0086, Train Accuracy: 1.0000 / Val Accuracy: 1.0000 Iter Time: 0.05s\n",
      "\n",
      "Epoch [37/40], Train Loss: 0.0082, Train Accuracy: 1.0000 / Val Accuracy: 1.0000 Iter Time: 0.05s\n",
      "\n",
      "Epoch [38/40], Train Loss: 0.0076, Train Accuracy: 1.0000 / Val Accuracy: 1.0000 Iter Time: 0.05s\n",
      "\n",
      "Epoch [39/40], Train Loss: 0.0079, Train Accuracy: 1.0000 / Val Accuracy: 1.0000 Iter Time: 0.05s\n",
      "\n",
      "Epoch [40/40], Train Loss: 0.0080, Train Accuracy: 1.0000 / Val Accuracy: 1.0000 Iter Time: 0.05s\n"
     ]
    },
    {
     "data": {
      "text/plain": [
       "<Figure size 640x480 with 1 Axes>"
      ],
      "image/png": "[encoded data removed]"
     },
     "metadata": {},
     "output_type": "display_data"
    },
    {
     "name": "stdout",
     "output_type": "stream",
     "text": [
      "\n",
      "Number of correct validations: 39/40\n"
     ]
    }
   ],
   "execution_count": 107
  },
  {
   "metadata": {
    "ExecuteTime": {
     "end_time": "2024-08-08T13:47:22.064831Z",
     "start_time": "2024-08-08T13:47:22.063315Z"
    }
   },
   "cell_type": "code",
   "source": "",
   "id": "3bbbdc9c79fac5df",
   "outputs": [],
   "execution_count": 107
  }
 ],
 "metadata": {
  "kernelspec": {
   "display_name": "Python 3",
   "language": "python",
   "name": "python3"
  },
  "language_info": {
   "codemirror_mode": {
    "name": "ipython",
    "version": 2
   },
   "file_extension": ".py",
   "mimetype": "text/x-python",
   "name": "python",
   "nbconvert_exporter": "python",
   "pygments_lexer": "ipython2",
   "version": "2.7.6"
  }
 },
 "nbformat": 4,
 "nbformat_minor": 5
}
